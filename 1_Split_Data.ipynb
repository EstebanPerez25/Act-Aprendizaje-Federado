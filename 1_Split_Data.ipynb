{
  "nbformat": 4,
  "nbformat_minor": 0,
  "metadata": {
    "colab": {
      "provenance": []
    },
    "kernelspec": {
      "name": "python3",
      "display_name": "Python 3"
    },
    "language_info": {
      "name": "python"
    }
  },
  "cells": [
    {
      "cell_type": "markdown",
      "source": [
        "# Split Data\n",
        "\n",
        "En este código se descargó el dataset de MNIST y luego se dividió en 5 folds, buscando que se mantengan las mismas proporciones en cada número."
      ],
      "metadata": {
        "id": "hcJaMqXBxGGn"
      }
    },
    {
      "cell_type": "markdown",
      "source": [
        "### Librerías"
      ],
      "metadata": {
        "id": "ePpi04ZOxZb_"
      }
    },
    {
      "cell_type": "code",
      "execution_count": 6,
      "metadata": {
        "id": "v_9VwWhhxCrf"
      },
      "outputs": [],
      "source": [
        "import tensorflow as tf\n",
        "from tensorflow import keras\n",
        "import numpy as np\n",
        "from sklearn.model_selection import StratifiedKFold"
      ]
    },
    {
      "cell_type": "markdown",
      "source": [
        "### Cargar dataset"
      ],
      "metadata": {
        "id": "ELL2a3yyxliB"
      }
    },
    {
      "cell_type": "code",
      "source": [
        "# Cargar el dataset MNIST\n",
        "(x_train, y_train), (x_test, y_test) = keras.datasets.mnist.load_data()\n",
        "\n",
        "# Normalizar los datos\n",
        "x_train = x_train.astype('float32') / 255.0\n",
        "x_test = x_test.astype('float32') / 255.0\n",
        "\n",
        "# Agregar una dimensión para el canal (escala de grises)\n",
        "x_train = np.expand_dims(x_train, -1)\n",
        "x_test = np.expand_dims(x_test, -1)"
      ],
      "metadata": {
        "id": "Jxi5-0mnxk9m"
      },
      "execution_count": 5,
      "outputs": []
    },
    {
      "cell_type": "markdown",
      "source": [
        "## Dividir dataset"
      ],
      "metadata": {
        "id": "PauZgeljx1nn"
      }
    },
    {
      "cell_type": "code",
      "source": [
        "num_clients = 5 # Un dataset por cada miembro del equipo\n",
        "\n",
        "def split_dataset(x, y, num_clients):\n",
        "    skf = StratifiedKFold(n_splits=num_clients, shuffle=True)\n",
        "    datasets = []\n",
        "    for _, client_idx in skf.split(x, y):\n",
        "        client_x = x[client_idx]\n",
        "        client_y = y[client_idx]\n",
        "        datasets.append((client_x, client_y))\n",
        "    return datasets\n",
        "\n",
        "datasets = split_dataset(x_train, y_train, num_clients)"
      ],
      "metadata": {
        "id": "9VU3Ov43yQ7j"
      },
      "execution_count": 8,
      "outputs": []
    },
    {
      "cell_type": "code",
      "source": [
        "datasets[0][0].shape # Forma de un elemento del dataset"
      ],
      "metadata": {
        "colab": {
          "base_uri": "https://localhost:8080/"
        },
        "id": "1fPduFDBy86J",
        "outputId": "e6f585d1-322f-4245-a085-d7ad8b222d93"
      },
      "execution_count": 10,
      "outputs": [
        {
          "output_type": "execute_result",
          "data": {
            "text/plain": [
              "(12000, 28, 28, 1)"
            ]
          },
          "metadata": {},
          "execution_count": 10
        }
      ]
    },
    {
      "cell_type": "markdown",
      "source": [
        "### Guardar cada dataset en un archivo"
      ],
      "metadata": {
        "id": "_JA_jCOexrvu"
      }
    },
    {
      "cell_type": "code",
      "source": [
        "for i, (x, y) in enumerate(datasets):\n",
        "    np.savez_compressed(f'train_fold{i+1}.npz', x=x, y=y)"
      ],
      "metadata": {
        "id": "Mn7RCIBezkR0"
      },
      "execution_count": 12,
      "outputs": []
    },
    {
      "cell_type": "markdown",
      "source": [
        "### Guardar datos de prueba en un archivo\n",
        "\n",
        "Guardar x_test y y_test en un archivo de numpy."
      ],
      "metadata": {
        "id": "22d6qY5xz4DC"
      }
    },
    {
      "cell_type": "code",
      "source": [
        "np.savez_compressed('test_data.npz', x=x_test, y=y_test)"
      ],
      "metadata": {
        "id": "Qt_fjOFD2K8W"
      },
      "execution_count": 13,
      "outputs": []
    }
  ]
}