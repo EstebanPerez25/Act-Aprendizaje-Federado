{
  "nbformat": 4,
  "nbformat_minor": 0,
  "metadata": {
    "colab": {
      "provenance": []
    },
    "kernelspec": {
      "name": "python3",
      "display_name": "Python 3"
    },
    "language_info": {
      "name": "python"
    }
  },
  "cells": [
    {
      "cell_type": "markdown",
      "source": [
        "# Train Local Model\n",
        "\n",
        "En este código vamos a entrenar cada miembro del equipo el mismo modelo, cada uno con diferentes datos."
      ],
      "metadata": {
        "id": "ORgaU6gw0eqN"
      }
    },
    {
      "cell_type": "markdown",
      "source": [
        "### Librerías"
      ],
      "metadata": {
        "id": "sKKXIOwm0szY"
      }
    },
    {
      "cell_type": "code",
      "execution_count": 34,
      "metadata": {
        "id": "FXMr4i6Q0XyK"
      },
      "outputs": [],
      "source": [
        "import numpy as np\n",
        "import tensorflow as tf\n",
        "from tensorflow import keras\n",
        "import matplotlib.pyplot as plt\n",
        "from tensorflow.keras import layers\n",
        "from tensorflow.keras.regularizers import l2"
      ]
    },
    {
      "cell_type": "markdown",
      "source": [
        "### Importar datasets de entrenamiento y prueba\n",
        "\n",
        "Importamos el dataset de entrenamiento que tocó a cada integrante y el datasets de prueba."
      ],
      "metadata": {
        "id": "x5qdrHIe1xmu"
      }
    },
    {
      "cell_type": "code",
      "source": [
        "# Cargar datos de entrenamiento y de prueba\n",
        "data_fold1 = np.load('train_fold1.npz') ####### Modificar número de fold\n",
        "test_data = np.load('test_data.npz')"
      ],
      "metadata": {
        "id": "pXhqRD5O8xtO"
      },
      "execution_count": 35,
      "outputs": []
    },
    {
      "cell_type": "code",
      "source": [
        "# Guardar datos de entrenamiento y prueba en sus variables X y Y\n",
        "x_train = data_fold1['x']\n",
        "y_train = data_fold1['y']\n",
        "\n",
        "x_test = test_data['x']\n",
        "y_test = test_data['y']\n",
        "\n",
        "# Mostramos el shape de cada subset\n",
        "print(f\"Entrenamiento  ---> \\tX: {x_train.shape}\\ty: {y_train.shape}\")\n",
        "print(f\"Prueba  ---> \\t\\tX: {x_test.shape}\\ty: {y_test.shape}\")"
      ],
      "metadata": {
        "colab": {
          "base_uri": "https://localhost:8080/"
        },
        "id": "OHzLGQS310Pf",
        "outputId": "756f9041-6444-435d-b912-2f2a0ccd7c6b"
      },
      "execution_count": 36,
      "outputs": [
        {
          "output_type": "stream",
          "name": "stdout",
          "text": [
            "Entrenamiento  ---> \tX: (12000, 28, 28, 1)\ty: (12000,)\n",
            "Prueba  ---> \t\tX: (10000, 28, 28, 1)\ty: (10000,)\n"
          ]
        }
      ]
    },
    {
      "cell_type": "markdown",
      "source": [
        "### Definición del modelo"
      ],
      "metadata": {
        "id": "UE2JmFzp04jt"
      }
    },
    {
      "cell_type": "code",
      "source": [
        "def cnn_model():\n",
        "  model = keras.models.Sequential([\n",
        "      keras.layers.Conv2D(32, (3, 3), activation='relu', input_shape=(28, 28, 1)),\n",
        "      keras.layers.MaxPooling2D((2, 2)),\n",
        "      keras.layers.Dropout(0.25),\n",
        "      keras.layers.Conv2D(64, (3, 3), activation='relu'),\n",
        "      keras.layers.MaxPooling2D((2, 2)),\n",
        "      keras.layers.Dropout(0.25),\n",
        "      keras.layers.Flatten(),\n",
        "      keras.layers.Dropout(0.5),\n",
        "      keras.layers.Dense(10, activation='softmax')\n",
        "  ])\n",
        "  model.compile(optimizer='adam',\n",
        "                loss='sparse_categorical_crossentropy',\n",
        "                metrics=['accuracy'])\n",
        "  return model"
      ],
      "metadata": {
        "id": "MTgw0aFA03lk"
      },
      "execution_count": 37,
      "outputs": []
    },
    {
      "cell_type": "markdown",
      "source": [
        "### Entrenamiento del modelo"
      ],
      "metadata": {
        "id": "GhdJk2-11iXY"
      }
    },
    {
      "cell_type": "code",
      "source": [
        "def train_local_model(model, x_train, y_train, x_test, y_test, epochs=20, save_name=\"model\"):\n",
        "    history = model.fit(x_train, y_train, epochs=epochs, verbose=1, validation_data=(x_test, y_test))\n",
        "\n",
        "    y_pred = model.predict(x_test)\n",
        "    y_pred_classes = np.argmax(y_pred, axis=1)\n",
        "\n",
        "    plt.plot(history.history['accuracy'], label='Training accuracy')\n",
        "    plt.plot(history.history['val_accuracy'], label='Validation accuracy')\n",
        "    plt.xlabel('Epochs')\n",
        "    plt.ylabel('Accuracy')\n",
        "    plt.legend()\n",
        "    plt.show()\n",
        "\n",
        "    return model"
      ],
      "metadata": {
        "id": "39Uq9PDz1aiX"
      },
      "execution_count": 38,
      "outputs": []
    },
    {
      "cell_type": "code",
      "source": [
        "model = cnn_model()\n",
        "model = train_local_model(model, x_train, y_train, x_test, y_test)"
      ],
      "metadata": {
        "colab": {
          "base_uri": "https://localhost:8080/",
          "height": 1000
        },
        "id": "gtL1CqPo1v0z",
        "outputId": "3900d1cc-76e8-49dc-de63-80e14bc9c9c0"
      },
      "execution_count": 39,
      "outputs": [
        {
          "output_type": "stream",
          "name": "stdout",
          "text": [
            "Epoch 1/20\n",
            "\u001b[1m375/375\u001b[0m \u001b[32m━━━━━━━━━━━━━━━━━━━━\u001b[0m\u001b[37m\u001b[0m \u001b[1m16s\u001b[0m 40ms/step - accuracy: 0.6152 - loss: 1.1404 - val_accuracy: 0.9474 - val_loss: 0.1881\n",
            "Epoch 2/20\n",
            "\u001b[1m375/375\u001b[0m \u001b[32m━━━━━━━━━━━━━━━━━━━━\u001b[0m\u001b[37m\u001b[0m \u001b[1m14s\u001b[0m 38ms/step - accuracy: 0.9231 - loss: 0.2486 - val_accuracy: 0.9664 - val_loss: 0.1192\n",
            "Epoch 3/20\n",
            "\u001b[1m375/375\u001b[0m \u001b[32m━━━━━━━━━━━━━━━━━━━━\u001b[0m\u001b[37m\u001b[0m \u001b[1m21s\u001b[0m 40ms/step - accuracy: 0.9404 - loss: 0.1868 - val_accuracy: 0.9723 - val_loss: 0.0955\n",
            "Epoch 4/20\n",
            "\u001b[1m375/375\u001b[0m \u001b[32m━━━━━━━━━━━━━━━━━━━━\u001b[0m\u001b[37m\u001b[0m \u001b[1m19s\u001b[0m 37ms/step - accuracy: 0.9540 - loss: 0.1439 - val_accuracy: 0.9763 - val_loss: 0.0786\n",
            "Epoch 5/20\n",
            "\u001b[1m375/375\u001b[0m \u001b[32m━━━━━━━━━━━━━━━━━━━━\u001b[0m\u001b[37m\u001b[0m \u001b[1m21s\u001b[0m 38ms/step - accuracy: 0.9577 - loss: 0.1293 - val_accuracy: 0.9796 - val_loss: 0.0667\n",
            "Epoch 6/20\n",
            "\u001b[1m375/375\u001b[0m \u001b[32m━━━━━━━━━━━━━━━━━━━━\u001b[0m\u001b[37m\u001b[0m \u001b[1m20s\u001b[0m 38ms/step - accuracy: 0.9638 - loss: 0.1089 - val_accuracy: 0.9812 - val_loss: 0.0640\n",
            "Epoch 7/20\n",
            "\u001b[1m375/375\u001b[0m \u001b[32m━━━━━━━━━━━━━━━━━━━━\u001b[0m\u001b[37m\u001b[0m \u001b[1m17s\u001b[0m 44ms/step - accuracy: 0.9696 - loss: 0.0981 - val_accuracy: 0.9816 - val_loss: 0.0590\n",
            "Epoch 8/20\n",
            "\u001b[1m375/375\u001b[0m \u001b[32m━━━━━━━━━━━━━━━━━━━━\u001b[0m\u001b[37m\u001b[0m \u001b[1m19s\u001b[0m 39ms/step - accuracy: 0.9656 - loss: 0.0984 - val_accuracy: 0.9833 - val_loss: 0.0529\n",
            "Epoch 9/20\n",
            "\u001b[1m375/375\u001b[0m \u001b[32m━━━━━━━━━━━━━━━━━━━━\u001b[0m\u001b[37m\u001b[0m \u001b[1m20s\u001b[0m 39ms/step - accuracy: 0.9706 - loss: 0.0957 - val_accuracy: 0.9828 - val_loss: 0.0516\n",
            "Epoch 10/20\n",
            "\u001b[1m375/375\u001b[0m \u001b[32m━━━━━━━━━━━━━━━━━━━━\u001b[0m\u001b[37m\u001b[0m \u001b[1m20s\u001b[0m 39ms/step - accuracy: 0.9730 - loss: 0.0862 - val_accuracy: 0.9843 - val_loss: 0.0475\n",
            "Epoch 11/20\n",
            "\u001b[1m375/375\u001b[0m \u001b[32m━━━━━━━━━━━━━━━━━━━━\u001b[0m\u001b[37m\u001b[0m \u001b[1m20s\u001b[0m 38ms/step - accuracy: 0.9718 - loss: 0.0836 - val_accuracy: 0.9837 - val_loss: 0.0481\n",
            "Epoch 12/20\n",
            "\u001b[1m375/375\u001b[0m \u001b[32m━━━━━━━━━━━━━━━━━━━━\u001b[0m\u001b[37m\u001b[0m \u001b[1m22s\u001b[0m 43ms/step - accuracy: 0.9734 - loss: 0.0778 - val_accuracy: 0.9853 - val_loss: 0.0425\n",
            "Epoch 13/20\n",
            "\u001b[1m375/375\u001b[0m \u001b[32m━━━━━━━━━━━━━━━━━━━━\u001b[0m\u001b[37m\u001b[0m \u001b[1m19s\u001b[0m 39ms/step - accuracy: 0.9772 - loss: 0.0712 - val_accuracy: 0.9848 - val_loss: 0.0462\n",
            "Epoch 14/20\n",
            "\u001b[1m375/375\u001b[0m \u001b[32m━━━━━━━━━━━━━━━━━━━━\u001b[0m\u001b[37m\u001b[0m \u001b[1m21s\u001b[0m 40ms/step - accuracy: 0.9800 - loss: 0.0655 - val_accuracy: 0.9856 - val_loss: 0.0457\n",
            "Epoch 15/20\n",
            "\u001b[1m375/375\u001b[0m \u001b[32m━━━━━━━━━━━━━━━━━━━━\u001b[0m\u001b[37m\u001b[0m \u001b[1m20s\u001b[0m 38ms/step - accuracy: 0.9807 - loss: 0.0612 - val_accuracy: 0.9855 - val_loss: 0.0417\n",
            "Epoch 16/20\n",
            "\u001b[1m375/375\u001b[0m \u001b[32m━━━━━━━━━━━━━━━━━━━━\u001b[0m\u001b[37m\u001b[0m \u001b[1m21s\u001b[0m 39ms/step - accuracy: 0.9787 - loss: 0.0574 - val_accuracy: 0.9858 - val_loss: 0.0403\n",
            "Epoch 17/20\n",
            "\u001b[1m375/375\u001b[0m \u001b[32m━━━━━━━━━━━━━━━━━━━━\u001b[0m\u001b[37m\u001b[0m \u001b[1m22s\u001b[0m 43ms/step - accuracy: 0.9807 - loss: 0.0574 - val_accuracy: 0.9869 - val_loss: 0.0379\n",
            "Epoch 18/20\n",
            "\u001b[1m375/375\u001b[0m \u001b[32m━━━━━━━━━━━━━━━━━━━━\u001b[0m\u001b[37m\u001b[0m \u001b[1m15s\u001b[0m 39ms/step - accuracy: 0.9795 - loss: 0.0632 - val_accuracy: 0.9866 - val_loss: 0.0397\n",
            "Epoch 19/20\n",
            "\u001b[1m375/375\u001b[0m \u001b[32m━━━━━━━━━━━━━━━━━━━━\u001b[0m\u001b[37m\u001b[0m \u001b[1m15s\u001b[0m 39ms/step - accuracy: 0.9822 - loss: 0.0545 - val_accuracy: 0.9868 - val_loss: 0.0370\n",
            "Epoch 20/20\n",
            "\u001b[1m375/375\u001b[0m \u001b[32m━━━━━━━━━━━━━━━━━━━━\u001b[0m\u001b[37m\u001b[0m \u001b[1m20s\u001b[0m 37ms/step - accuracy: 0.9806 - loss: 0.0555 - val_accuracy: 0.9856 - val_loss: 0.0398\n",
            "\u001b[1m313/313\u001b[0m \u001b[32m━━━━━━━━━━━━━━━━━━━━\u001b[0m\u001b[37m\u001b[0m \u001b[1m3s\u001b[0m 8ms/step\n"
          ]
        },
        {
          "output_type": "display_data",
          "data": {
            "text/plain": [
              "<Figure size 640x480 with 1 Axes>"
            ],
            "image/png": "[encoded data removed]"
          },
          "metadata": {}
        }
      ]
    },
    {
      "cell_type": "code",
      "source": [
        "model.save(f'model_fold1.keras') ### Modificar número de fold"
      ],
      "metadata": {
        "id": "1dsA_a4i9SjY"
      },
      "execution_count": 40,
      "outputs": []
    }
  ]
}
